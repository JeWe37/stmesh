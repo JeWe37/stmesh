{
 "cells": [
  {
   "cell_type": "code",
   "execution_count": 1,
   "metadata": {},
   "outputs": [
    {
     "name": "stderr",
     "output_type": "stream",
     "text": [
      "/tmp/ipykernel_37676/4080736814.py:1: DeprecationWarning: \n",
      "Pyarrow will become a required dependency of pandas in the next major release of pandas (pandas 3.0),\n",
      "(to allow more performant data types, such as the Arrow string type, and better interoperability with other libraries)\n",
      "but was not found to be installed on your system.\n",
      "If this would cause problems for you,\n",
      "please provide us feedback at https://github.com/pandas-dev/pandas/issues/54466\n",
      "        \n",
      "  import pandas as pd\n"
     ]
    }
   ],
   "source": [
    "import pandas as pd"
   ]
  },
  {
   "cell_type": "code",
   "execution_count": 2,
   "metadata": {},
   "outputs": [],
   "source": [
    "df = pd.read_csv('../out/build/unixlike-gcc-release/src/stmesher/statistics.csv').set_index('full_cell_id')"
   ]
  },
  {
   "cell_type": "code",
   "execution_count": 3,
   "metadata": {},
   "outputs": [
    {
     "data": {
      "text/plain": [
       "content                 125.067556\n",
       "shortest_edge_length      1.504474\n",
       "circumsphere_radius       1.316707\n",
       "radius_edge_ratio         0.633337\n",
       "quality                   0.540542\n",
       "dtype: float64"
      ]
     },
     "execution_count": 3,
     "metadata": {},
     "output_type": "execute_result"
    }
   ],
   "source": [
    "df.std()"
   ]
  },
  {
   "cell_type": "code",
   "execution_count": 4,
   "metadata": {},
   "outputs": [
    {
     "data": {
      "text/plain": [
       "content                 104.566518\n",
       "shortest_edge_length      5.317442\n",
       "circumsphere_radius       7.388110\n",
       "radius_edge_ratio         1.488823\n",
       "quality                   0.145812\n",
       "dtype: float64"
      ]
     },
     "execution_count": 4,
     "metadata": {},
     "output_type": "execute_result"
    }
   ],
   "source": [
    "df.mean()"
   ]
  },
  {
   "cell_type": "code",
   "execution_count": 5,
   "metadata": {},
   "outputs": [
    {
     "data": {
      "text/plain": [
       "content                 0.000671\n",
       "shortest_edge_length    0.533947\n",
       "circumsphere_radius     2.231711\n",
       "radius_edge_ratio       0.725192\n",
       "quality                 0.000456\n",
       "dtype: float64"
      ]
     },
     "execution_count": 5,
     "metadata": {},
     "output_type": "execute_result"
    }
   ],
   "source": [
    "df.min()"
   ]
  },
  {
   "cell_type": "code",
   "execution_count": 6,
   "metadata": {},
   "outputs": [
    {
     "data": {
      "text/plain": [
       "content                 1601.737947\n",
       "shortest_edge_length      13.533596\n",
       "circumsphere_radius       11.337275\n",
       "radius_edge_ratio         14.836895\n",
       "quality                   48.481655\n",
       "dtype: float64"
      ]
     },
     "execution_count": 6,
     "metadata": {},
     "output_type": "execute_result"
    }
   ],
   "source": [
    "df.max()"
   ]
  },
  {
   "cell_type": "code",
   "execution_count": 7,
   "metadata": {},
   "outputs": [
    {
     "data": {
      "text/html": [
       "<div>\n",
       "<style scoped>\n",
       "    .dataframe tbody tr th:only-of-type {\n",
       "        vertical-align: middle;\n",
       "    }\n",
       "\n",
       "    .dataframe tbody tr th {\n",
       "        vertical-align: top;\n",
       "    }\n",
       "\n",
       "    .dataframe thead th {\n",
       "        text-align: right;\n",
       "    }\n",
       "</style>\n",
       "<table border=\"1\" class=\"dataframe\">\n",
       "  <thead>\n",
       "    <tr style=\"text-align: right;\">\n",
       "      <th></th>\n",
       "      <th>content</th>\n",
       "      <th>shortest_edge_length</th>\n",
       "      <th>circumsphere_radius</th>\n",
       "      <th>radius_edge_ratio</th>\n",
       "      <th>quality</th>\n",
       "    </tr>\n",
       "    <tr>\n",
       "      <th>full_cell_id</th>\n",
       "      <th></th>\n",
       "      <th></th>\n",
       "      <th></th>\n",
       "      <th></th>\n",
       "      <th></th>\n",
       "    </tr>\n",
       "  </thead>\n",
       "  <tbody>\n",
       "    <tr>\n",
       "      <th>0</th>\n",
       "      <td>238.478576</td>\n",
       "      <td>5.603776</td>\n",
       "      <td>8.238612</td>\n",
       "      <td>1.470189</td>\n",
       "      <td>0.241839</td>\n",
       "    </tr>\n",
       "    <tr>\n",
       "      <th>1</th>\n",
       "      <td>53.403812</td>\n",
       "      <td>5.330715</td>\n",
       "      <td>8.393339</td>\n",
       "      <td>1.574524</td>\n",
       "      <td>0.066135</td>\n",
       "    </tr>\n",
       "    <tr>\n",
       "      <th>2</th>\n",
       "      <td>68.452323</td>\n",
       "      <td>5.063497</td>\n",
       "      <td>8.015800</td>\n",
       "      <td>1.583056</td>\n",
       "      <td>0.104132</td>\n",
       "    </tr>\n",
       "    <tr>\n",
       "      <th>3</th>\n",
       "      <td>62.606203</td>\n",
       "      <td>5.511906</td>\n",
       "      <td>6.536405</td>\n",
       "      <td>1.185870</td>\n",
       "      <td>0.067828</td>\n",
       "    </tr>\n",
       "    <tr>\n",
       "      <th>4</th>\n",
       "      <td>73.405824</td>\n",
       "      <td>5.260922</td>\n",
       "      <td>8.491089</td>\n",
       "      <td>1.613993</td>\n",
       "      <td>0.095826</td>\n",
       "    </tr>\n",
       "    <tr>\n",
       "      <th>...</th>\n",
       "      <td>...</td>\n",
       "      <td>...</td>\n",
       "      <td>...</td>\n",
       "      <td>...</td>\n",
       "      <td>...</td>\n",
       "    </tr>\n",
       "    <tr>\n",
       "      <th>37439</th>\n",
       "      <td>32.249472</td>\n",
       "      <td>6.133095</td>\n",
       "      <td>7.977455</td>\n",
       "      <td>1.300723</td>\n",
       "      <td>0.022793</td>\n",
       "    </tr>\n",
       "    <tr>\n",
       "      <th>37440</th>\n",
       "      <td>64.683301</td>\n",
       "      <td>5.083065</td>\n",
       "      <td>7.732644</td>\n",
       "      <td>1.521256</td>\n",
       "      <td>0.096892</td>\n",
       "    </tr>\n",
       "    <tr>\n",
       "      <th>37441</th>\n",
       "      <td>78.739518</td>\n",
       "      <td>5.325870</td>\n",
       "      <td>8.115646</td>\n",
       "      <td>1.523816</td>\n",
       "      <td>0.097866</td>\n",
       "    </tr>\n",
       "    <tr>\n",
       "      <th>37442</th>\n",
       "      <td>63.421710</td>\n",
       "      <td>6.495473</td>\n",
       "      <td>8.158585</td>\n",
       "      <td>1.256042</td>\n",
       "      <td>0.035628</td>\n",
       "    </tr>\n",
       "    <tr>\n",
       "      <th>37443</th>\n",
       "      <td>96.856516</td>\n",
       "      <td>6.133095</td>\n",
       "      <td>8.759689</td>\n",
       "      <td>1.428266</td>\n",
       "      <td>0.068456</td>\n",
       "    </tr>\n",
       "  </tbody>\n",
       "</table>\n",
       "<p>37444 rows × 5 columns</p>\n",
       "</div>"
      ],
      "text/plain": [
       "                 content  shortest_edge_length  circumsphere_radius  \\\n",
       "full_cell_id                                                          \n",
       "0             238.478576              5.603776             8.238612   \n",
       "1              53.403812              5.330715             8.393339   \n",
       "2              68.452323              5.063497             8.015800   \n",
       "3              62.606203              5.511906             6.536405   \n",
       "4              73.405824              5.260922             8.491089   \n",
       "...                  ...                   ...                  ...   \n",
       "37439          32.249472              6.133095             7.977455   \n",
       "37440          64.683301              5.083065             7.732644   \n",
       "37441          78.739518              5.325870             8.115646   \n",
       "37442          63.421710              6.495473             8.158585   \n",
       "37443          96.856516              6.133095             8.759689   \n",
       "\n",
       "              radius_edge_ratio   quality  \n",
       "full_cell_id                               \n",
       "0                      1.470189  0.241839  \n",
       "1                      1.574524  0.066135  \n",
       "2                      1.583056  0.104132  \n",
       "3                      1.185870  0.067828  \n",
       "4                      1.613993  0.095826  \n",
       "...                         ...       ...  \n",
       "37439                  1.300723  0.022793  \n",
       "37440                  1.521256  0.096892  \n",
       "37441                  1.523816  0.097866  \n",
       "37442                  1.256042  0.035628  \n",
       "37443                  1.428266  0.068456  \n",
       "\n",
       "[37444 rows x 5 columns]"
      ]
     },
     "execution_count": 7,
     "metadata": {},
     "output_type": "execute_result"
    }
   ],
   "source": [
    "df"
   ]
  },
  {
   "cell_type": "code",
   "execution_count": 11,
   "metadata": {},
   "outputs": [
    {
     "data": {
      "text/plain": [
       "content                 0.303185\n",
       "shortest_edge_length    5.078411\n",
       "circumsphere_radius     7.904678\n",
       "radius_edge_ratio       1.556526\n",
       "quality                 0.000456\n",
       "Name: 2219, dtype: float64"
      ]
     },
     "execution_count": 11,
     "metadata": {},
     "output_type": "execute_result"
    }
   ],
   "source": [
    "df.iloc[int(df.idxmin()['quality'])]"
   ]
  },
  {
   "cell_type": "code",
   "execution_count": null,
   "metadata": {},
   "outputs": [],
   "source": []
  }
 ],
 "metadata": {
  "kernelspec": {
   "display_name": "venv",
   "language": "python",
   "name": "python3"
  },
  "language_info": {
   "codemirror_mode": {
    "name": "ipython",
    "version": 3
   },
   "file_extension": ".py",
   "mimetype": "text/x-python",
   "name": "python",
   "nbconvert_exporter": "python",
   "pygments_lexer": "ipython3",
   "version": "3.10.12"
  }
 },
 "nbformat": 4,
 "nbformat_minor": 2
}
