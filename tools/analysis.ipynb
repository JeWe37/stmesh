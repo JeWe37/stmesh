{
 "cells": [
  {
   "cell_type": "code",
   "execution_count": 60,
   "metadata": {},
   "outputs": [],
   "source": [
    "import pandas as pd\n",
    "import numpy as np"
   ]
  },
  {
   "cell_type": "code",
   "execution_count": 47,
   "metadata": {},
   "outputs": [],
   "source": [
    "df = pd.read_csv('../out/build/unixlike-gcc-release/src/stmesher/stats-pat1.csv').set_index('full_cell_id')"
   ]
  },
  {
   "cell_type": "code",
   "execution_count": 48,
   "metadata": {},
   "outputs": [
    {
     "data": {
      "text/plain": [
       "content                 69.427836\n",
       "shortest_edge_length     5.652823\n",
       "circumsphere_radius      6.485929\n",
       "radius_edge_ratio        1.150924\n",
       "quality                  0.064887\n",
       "metric1                  0.602694\n",
       "metric2                  0.650671\n",
       "metric3                  0.396963\n",
       "dtype: float64"
      ]
     },
     "execution_count": 48,
     "metadata": {},
     "output_type": "execute_result"
    }
   ],
   "source": [
    "df.mean()"
   ]
  },
  {
   "cell_type": "code",
   "execution_count": 49,
   "metadata": {},
   "outputs": [
    {
     "data": {
      "text/plain": [
       "content                 54.413891\n",
       "shortest_edge_length     0.625023\n",
       "circumsphere_radius      1.447552\n",
       "radius_edge_ratio        0.246822\n",
       "quality                  0.043687\n",
       "metric1                  0.163226\n",
       "metric2                  0.073463\n",
       "metric3                  0.130203\n",
       "dtype: float64"
      ]
     },
     "execution_count": 49,
     "metadata": {},
     "output_type": "execute_result"
    }
   ],
   "source": [
    "df.std()"
   ]
  },
  {
   "cell_type": "code",
   "execution_count": 50,
   "metadata": {},
   "outputs": [
    {
     "data": {
      "text/plain": [
       "content                 0.875783\n",
       "shortest_edge_length    3.062958\n",
       "circumsphere_radius     3.506497\n",
       "radius_edge_ratio       0.694470\n",
       "quality                 0.001324\n",
       "metric1                 0.051113\n",
       "metric2                 0.403486\n",
       "metric3                 0.030348\n",
       "dtype: float64"
      ]
     },
     "execution_count": 50,
     "metadata": {},
     "output_type": "execute_result"
    }
   ],
   "source": [
    "df.min()"
   ]
  },
  {
   "cell_type": "code",
   "execution_count": 51,
   "metadata": {},
   "outputs": [
    {
     "data": {
      "text/plain": [
       "content                 528.070858\n",
       "shortest_edge_length     10.600004\n",
       "circumsphere_radius       9.253053\n",
       "radius_edge_ratio         2.223370\n",
       "quality                   0.834717\n",
       "metric1                   0.980936\n",
       "metric2                   0.846031\n",
       "metric3                   0.778744\n",
       "dtype: float64"
      ]
     },
     "execution_count": 51,
     "metadata": {},
     "output_type": "execute_result"
    }
   ],
   "source": [
    "df.max()"
   ]
  },
  {
   "cell_type": "code",
   "execution_count": 52,
   "metadata": {},
   "outputs": [
    {
     "data": {
      "text/html": [
       "<div>\n",
       "<style scoped>\n",
       "    .dataframe tbody tr th:only-of-type {\n",
       "        vertical-align: middle;\n",
       "    }\n",
       "\n",
       "    .dataframe tbody tr th {\n",
       "        vertical-align: top;\n",
       "    }\n",
       "\n",
       "    .dataframe thead th {\n",
       "        text-align: right;\n",
       "    }\n",
       "</style>\n",
       "<table border=\"1\" class=\"dataframe\">\n",
       "  <thead>\n",
       "    <tr style=\"text-align: right;\">\n",
       "      <th></th>\n",
       "      <th>content</th>\n",
       "      <th>shortest_edge_length</th>\n",
       "      <th>circumsphere_radius</th>\n",
       "      <th>radius_edge_ratio</th>\n",
       "      <th>quality</th>\n",
       "      <th>metric1</th>\n",
       "      <th>metric2</th>\n",
       "      <th>metric3</th>\n",
       "    </tr>\n",
       "    <tr>\n",
       "      <th>full_cell_id</th>\n",
       "      <th></th>\n",
       "      <th></th>\n",
       "      <th></th>\n",
       "      <th></th>\n",
       "      <th></th>\n",
       "      <th></th>\n",
       "      <th></th>\n",
       "      <th></th>\n",
       "    </tr>\n",
       "  </thead>\n",
       "  <tbody>\n",
       "    <tr>\n",
       "      <th>0</th>\n",
       "      <td>49.616319</td>\n",
       "      <td>5.394247</td>\n",
       "      <td>4.639038</td>\n",
       "      <td>0.859997</td>\n",
       "      <td>0.058600</td>\n",
       "      <td>0.900804</td>\n",
       "      <td>0.655299</td>\n",
       "      <td>0.590297</td>\n",
       "    </tr>\n",
       "    <tr>\n",
       "      <th>1</th>\n",
       "      <td>58.278395</td>\n",
       "      <td>5.383970</td>\n",
       "      <td>5.458825</td>\n",
       "      <td>1.013903</td>\n",
       "      <td>0.069358</td>\n",
       "      <td>0.808317</td>\n",
       "      <td>0.775157</td>\n",
       "      <td>0.626573</td>\n",
       "    </tr>\n",
       "    <tr>\n",
       "      <th>2</th>\n",
       "      <td>54.530023</td>\n",
       "      <td>5.487598</td>\n",
       "      <td>5.334082</td>\n",
       "      <td>0.972025</td>\n",
       "      <td>0.060132</td>\n",
       "      <td>0.755881</td>\n",
       "      <td>0.740868</td>\n",
       "      <td>0.560008</td>\n",
       "    </tr>\n",
       "    <tr>\n",
       "      <th>3</th>\n",
       "      <td>39.868273</td>\n",
       "      <td>5.209981</td>\n",
       "      <td>4.416799</td>\n",
       "      <td>0.847757</td>\n",
       "      <td>0.054111</td>\n",
       "      <td>0.869267</td>\n",
       "      <td>0.725451</td>\n",
       "      <td>0.630611</td>\n",
       "    </tr>\n",
       "    <tr>\n",
       "      <th>4</th>\n",
       "      <td>142.725892</td>\n",
       "      <td>5.886572</td>\n",
       "      <td>8.047556</td>\n",
       "      <td>1.367104</td>\n",
       "      <td>0.118865</td>\n",
       "      <td>0.606064</td>\n",
       "      <td>0.637953</td>\n",
       "      <td>0.386641</td>\n",
       "    </tr>\n",
       "    <tr>\n",
       "      <th>...</th>\n",
       "      <td>...</td>\n",
       "      <td>...</td>\n",
       "      <td>...</td>\n",
       "      <td>...</td>\n",
       "      <td>...</td>\n",
       "      <td>...</td>\n",
       "      <td>...</td>\n",
       "      <td>...</td>\n",
       "    </tr>\n",
       "    <tr>\n",
       "      <th>90884</th>\n",
       "      <td>75.678171</td>\n",
       "      <td>5.073313</td>\n",
       "      <td>7.213866</td>\n",
       "      <td>1.421924</td>\n",
       "      <td>0.114236</td>\n",
       "      <td>0.523212</td>\n",
       "      <td>0.486149</td>\n",
       "      <td>0.254359</td>\n",
       "    </tr>\n",
       "    <tr>\n",
       "      <th>90885</th>\n",
       "      <td>170.826582</td>\n",
       "      <td>6.334086</td>\n",
       "      <td>7.436881</td>\n",
       "      <td>1.174105</td>\n",
       "      <td>0.106125</td>\n",
       "      <td>0.663843</td>\n",
       "      <td>0.645706</td>\n",
       "      <td>0.428647</td>\n",
       "    </tr>\n",
       "    <tr>\n",
       "      <th>90886</th>\n",
       "      <td>17.062779</td>\n",
       "      <td>5.152853</td>\n",
       "      <td>7.141402</td>\n",
       "      <td>1.385912</td>\n",
       "      <td>0.024202</td>\n",
       "      <td>0.281406</td>\n",
       "      <td>0.624333</td>\n",
       "      <td>0.175691</td>\n",
       "    </tr>\n",
       "    <tr>\n",
       "      <th>90887</th>\n",
       "      <td>176.590216</td>\n",
       "      <td>5.241730</td>\n",
       "      <td>7.506673</td>\n",
       "      <td>1.432098</td>\n",
       "      <td>0.233920</td>\n",
       "      <td>0.684424</td>\n",
       "      <td>0.687828</td>\n",
       "      <td>0.470766</td>\n",
       "    </tr>\n",
       "    <tr>\n",
       "      <th>90888</th>\n",
       "      <td>193.348065</td>\n",
       "      <td>6.543917</td>\n",
       "      <td>7.455591</td>\n",
       "      <td>1.139316</td>\n",
       "      <td>0.105436</td>\n",
       "      <td>0.757954</td>\n",
       "      <td>0.693612</td>\n",
       "      <td>0.525726</td>\n",
       "    </tr>\n",
       "  </tbody>\n",
       "</table>\n",
       "<p>90889 rows × 8 columns</p>\n",
       "</div>"
      ],
      "text/plain": [
       "                 content  shortest_edge_length  circumsphere_radius  \\\n",
       "full_cell_id                                                          \n",
       "0              49.616319              5.394247             4.639038   \n",
       "1              58.278395              5.383970             5.458825   \n",
       "2              54.530023              5.487598             5.334082   \n",
       "3              39.868273              5.209981             4.416799   \n",
       "4             142.725892              5.886572             8.047556   \n",
       "...                  ...                   ...                  ...   \n",
       "90884          75.678171              5.073313             7.213866   \n",
       "90885         170.826582              6.334086             7.436881   \n",
       "90886          17.062779              5.152853             7.141402   \n",
       "90887         176.590216              5.241730             7.506673   \n",
       "90888         193.348065              6.543917             7.455591   \n",
       "\n",
       "              radius_edge_ratio   quality   metric1   metric2   metric3  \n",
       "full_cell_id                                                             \n",
       "0                      0.859997  0.058600  0.900804  0.655299  0.590297  \n",
       "1                      1.013903  0.069358  0.808317  0.775157  0.626573  \n",
       "2                      0.972025  0.060132  0.755881  0.740868  0.560008  \n",
       "3                      0.847757  0.054111  0.869267  0.725451  0.630611  \n",
       "4                      1.367104  0.118865  0.606064  0.637953  0.386641  \n",
       "...                         ...       ...       ...       ...       ...  \n",
       "90884                  1.421924  0.114236  0.523212  0.486149  0.254359  \n",
       "90885                  1.174105  0.106125  0.663843  0.645706  0.428647  \n",
       "90886                  1.385912  0.024202  0.281406  0.624333  0.175691  \n",
       "90887                  1.432098  0.233920  0.684424  0.687828  0.470766  \n",
       "90888                  1.139316  0.105436  0.757954  0.693612  0.525726  \n",
       "\n",
       "[90889 rows x 8 columns]"
      ]
     },
     "execution_count": 52,
     "metadata": {},
     "output_type": "execute_result"
    }
   ],
   "source": [
    "df"
   ]
  },
  {
   "cell_type": "code",
   "execution_count": 53,
   "metadata": {},
   "outputs": [
    {
     "data": {
      "text/plain": [
       "content                 1.330877\n",
       "shortest_edge_length    5.630594\n",
       "circumsphere_radius     4.744068\n",
       "radius_edge_ratio       0.842552\n",
       "quality                 0.001324\n",
       "metric1                 0.157273\n",
       "metric2                 0.684780\n",
       "metric3                 0.107697\n",
       "Name: 86465, dtype: float64"
      ]
     },
     "execution_count": 53,
     "metadata": {},
     "output_type": "execute_result"
    }
   ],
   "source": [
    "df.iloc[int(df.idxmin()['quality'])]"
   ]
  },
  {
   "cell_type": "code",
   "execution_count": 59,
   "metadata": {},
   "outputs": [
    {
     "data": {
      "text/plain": [
       "<Axes: >"
      ]
     },
     "execution_count": 59,
     "metadata": {},
     "output_type": "execute_result"
    },
    {
     "data": {
      "image/png": "[encoded data removed]",
      "text/plain": [
       "<Figure size 640x480 with 1 Axes>"
      ]
     },
     "metadata": {},
     "output_type": "display_data"
    }
   ],
   "source": [
    "df['content'].hist(bins=100)"
   ]
  },
  {
   "cell_type": "code",
   "execution_count": 56,
   "metadata": {},
   "outputs": [
    {
     "name": "stdout",
     "output_type": "stream",
     "text": [
      "& 69.43  & 54.41  & 0.88   & 528.07 \n",
      "& 5.65   & 0.63   & 3.06   & 10.60  \n",
      "& 6.49   & 1.45   & 3.51   & 9.25   \n",
      "& 1.15   & 0.25   & 0.69   & 2.22   \n",
      "& 0.06   & 0.04   & 0.00   & 0.83   \n",
      "& 0.60   & 0.16   & 0.05   & 0.98   \n",
      "& 0.65   & 0.07   & 0.40   & 0.85   \n",
      "& 0.40   & 0.13   & 0.03   & 0.78   \n"
     ]
    }
   ],
   "source": [
    "for i in zip(df.mean(), df.std(), df.min(), df.max()):\n",
    "    print(r\"& \" + \" & \".join(map(lambda x: f'{x:<6.02f}', i))+ \" \")"
   ]
  },
  {
   "cell_type": "code",
   "execution_count": 62,
   "metadata": {},
   "outputs": [],
   "source": [
    "df['normalized_content'] = 384 * df['content'] / (25 * np.sqrt(5) * df['circumsphere_radius'] ** 4)"
   ]
  },
  {
   "cell_type": "code",
   "execution_count": 64,
   "metadata": {},
   "outputs": [
    {
     "data": {
      "text/plain": [
       "<Axes: >"
      ]
     },
     "execution_count": 64,
     "metadata": {},
     "output_type": "execute_result"
    },
    {
     "data": {
      "image/png": "[encoded data removed]",
      "text/plain": [
       "<Figure size 640x480 with 1 Axes>"
      ]
     },
     "metadata": {},
     "output_type": "display_data"
    }
   ],
   "source": [
    "df.normalized_content.hist(bins=100)"
   ]
  },
  {
   "cell_type": "code",
   "execution_count": null,
   "metadata": {},
   "outputs": [],
   "source": []
  }
 ],
 "metadata": {
  "kernelspec": {
   "display_name": "venv",
   "language": "python",
   "name": "python3"
  },
  "language_info": {
   "codemirror_mode": {
    "name": "ipython",
    "version": 3
   },
   "file_extension": ".py",
   "mimetype": "text/x-python",
   "name": "python",
   "nbconvert_exporter": "python",
   "pygments_lexer": "ipython3",
   "version": "3.10.12"
  }
 },
 "nbformat": 4,
 "nbformat_minor": 2
}
