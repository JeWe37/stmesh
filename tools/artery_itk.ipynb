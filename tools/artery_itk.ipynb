{
 "cells": [
  {
   "cell_type": "code",
   "execution_count": 2,
   "metadata": {},
   "outputs": [],
   "source": [
    "import itk\n",
    "import numpy as np\n",
    "import matplotlib.pyplot as plt"
   ]
  },
  {
   "cell_type": "code",
   "execution_count": 3,
   "metadata": {},
   "outputs": [],
   "source": [
    "r0 = 30\n",
    "tend = 30\n",
    "L = 12 * r0\n",
    "np_img = np.zeros((tend, r0*2 + 10, r0*2 + 10, L + 10), dtype=np.uint8)\n",
    "indices = np.indices(np_img.shape)\n",
    "np_img[(np.linalg.norm(indices[1:3] - (5 + r0), axis=0) < r0) & (5 < indices[3]) & (indices[3] < 5+L)] = 5\n",
    "deltay1 = r0 * (0.35 + 0.25 * np.cos(np.pi * indices[0] / tend))\n",
    "deltay2 = r0 * (0.75 + 0.25 * np.cos(np.pi * indices[0] / tend))\n",
    "np_img[(5 + L * 0.475 <= indices[3]) & (indices[3] < 5 + L * 0.525) & (deltay1 < np.abs(5 + r0 - indices[2]))] = 0\n",
    "np_img[(5 + L * 0.45 <= indices[3]) & (indices[3] < 5 + L * 0.55) & (deltay2 < np.abs(5 + r0 - indices[2]))] = 0\n",
    "for x0 in [5 + L * 0.475, 5 + L * 0.525]:\n",
    "    for y in [5 + r0 + deltay2, 5 + r0 - deltay2]:\n",
    "        centers = np.full((2, *np_img.shape), x0)\n",
    "        centers[0] = y\n",
    "        deltas = indices[2:] - centers\n",
    "        scaled_deltas = (deltas.T / np.array([0.4, 0.3])).T\n",
    "        rs = np.linalg.norm(scaled_deltas, axis = 0)\n",
    "        np_img[rs < r0] = 0\n",
    "np_img[(indices[3] < 10) & (indices[3] > 1) & (np_img != 0)] = 1 # inlet\n",
    "np_img[(indices[3] > L) & (indices[3] < L + 9) & (np_img != 0)] = 2 # outlet\n",
    "np_img[(indices[3] >= 5 + L * 0.4) & (indices[3] < L * 0.6 + 5) & (indices[2] > 6 + r0) & (deltay2 > indices[2] - 5 - r0) & (np_img != 0)] = 3 # moving top\n",
    "np_img[(indices[3] >= 5 + L * 0.4) & (indices[3] < L * 0.6 + 5) & (indices[2] <= 4 + r0) & (deltay2 > 5 + r0 - indices[2]) & (np_img != 0)] = 4 # moving bottom\n",
    "np_img[(np.linalg.norm(indices[1:3] - (5 + r0), axis=0) > r0 - 2) & (7 < indices[3]) & (indices[3] < 3+L) & (np_img != 0)] = 5 # wall\n",
    "np_img[(indices[0] == 29) & (np_img != 0)] = 6 # future"
   ]
  },
  {
   "cell_type": "code",
   "execution_count": 4,
   "metadata": {},
   "outputs": [
    {
     "data": {
      "text/plain": [
       "<matplotlib.image.AxesImage at 0x7c846006ca10>"
      ]
     },
     "execution_count": 4,
     "metadata": {},
     "output_type": "execute_result"
    },
    {
     "data": {
      "image/png": "[encoded data removed]",
      "text/plain": [
       "<Figure size 640x480 with 4 Axes>"
      ]
     },
     "metadata": {},
     "output_type": "display_data"
    }
   ],
   "source": [
    "fig, (ax1, ax2, ax3, ax4) = plt.subplots(4, 1)\n",
    "ax1.imshow(np_img[0, 25, :, :], cmap='gray')\n",
    "ax2.imshow(np_img[15, 25, :, :], cmap='gray')\n",
    "ax3.imshow(np_img[29, 25, :, :], cmap='gray')\n",
    "ax4.imshow(np_img[11, :, :, 22], cmap='gray')"
   ]
  },
  {
   "cell_type": "code",
   "execution_count": 5,
   "metadata": {},
   "outputs": [
    {
     "data": {
      "text/plain": [
       "(itkSize4 ([370, 70, 70, 40]), itkVectorD4 ([1, 1, 1, 2]))"
      ]
     },
     "execution_count": 5,
     "metadata": {},
     "output_type": "execute_result"
    }
   ],
   "source": [
    "padded = np.pad(np_img, ((5, 5), (0, 0), (0, 0), (0, 0)))\n",
    "image = itk.image_from_array(padded)\n",
    "image.SetSpacing([1, 1, 1, 2])\n",
    "image.GetLargestPossibleRegion().GetSize(), image.GetSpacing()"
   ]
  },
  {
   "cell_type": "code",
   "execution_count": 7,
   "metadata": {},
   "outputs": [
    {
     "data": {
      "text/plain": [
       "(28689178, (30, 70, 70, 370))"
      ]
     },
     "execution_count": 7,
     "metadata": {},
     "output_type": "execute_result"
    }
   ],
   "source": [
    "(np_img != 0).sum(), np_img.shape"
   ]
  },
  {
   "cell_type": "code",
   "execution_count": 24,
   "metadata": {},
   "outputs": [],
   "source": [
    "itk.imwrite(image, 'data/artery.mha')"
   ]
  }
 ],
 "metadata": {
  "kernelspec": {
   "display_name": "venv",
   "language": "python",
   "name": "python3"
  },
  "language_info": {
   "codemirror_mode": {
    "name": "ipython",
    "version": 3
   },
   "file_extension": ".py",
   "mimetype": "text/x-python",
   "name": "python",
   "nbconvert_exporter": "python",
   "pygments_lexer": "ipython3",
   "version": "3.12.3"
  }
 },
 "nbformat": 4,
 "nbformat_minor": 2
}
